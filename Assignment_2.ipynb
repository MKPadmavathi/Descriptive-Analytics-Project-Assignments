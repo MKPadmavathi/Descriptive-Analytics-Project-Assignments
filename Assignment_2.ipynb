{
  "nbformat": 4,
  "nbformat_minor": 0,
  "metadata": {
    "colab": {
      "name": "Assignment-2.ipynb",
      "provenance": [],
      "collapsed_sections": []
    },
    "kernelspec": {
      "name": "python3",
      "display_name": "Python 3"
    },
    "language_info": {
      "name": "python"
    }
  },
  "cells": [
    {
      "cell_type": "markdown",
      "source": [
        "This is your assignment on conditional statement and looping"
      ],
      "metadata": {
        "id": "RWGPvgMGhZo5"
      }
    },
    {
      "cell_type": "markdown",
      "source": [
        "**Problem-1**<br>\n",
        "Write a small program to check a number is divisible by 7 or not"
      ],
      "metadata": {
        "id": "IKuXztS-h62c"
      }
    },
    {
      "cell_type": "code",
      "source": [
        "n=int(input(\"Enter a number:\"))\n",
        "if n%7==0:\n",
        "  print(\"Number is divisible by 7\")\n",
        "else:\n",
        "  print(\"Not divisible by 7\")\n",
        "    \n"
      ],
      "metadata": {
        "id": "tmLkoOqthcy-",
        "colab": {
          "base_uri": "https://localhost:8080/"
        },
        "outputId": "6b21a758-0d70-478c-d95b-187084aa2218"
      },
      "execution_count": null,
      "outputs": [
        {
          "output_type": "stream",
          "name": "stdout",
          "text": [
            "Enter a number:35\n",
            "Number is divisible by 7\n"
          ]
        }
      ]
    },
    {
      "cell_type": "markdown",
      "source": [
        "**Problem-2**<br>\n",
        "If a number is divisible by either 5 or 7, then we will call it a 'five-or-seven' number.<br> \n",
        "Write down a program to check if a number is 'five-or-seven' number or not."
      ],
      "metadata": {
        "id": "aKEBothyhZy8"
      }
    },
    {
      "cell_type": "code",
      "source": [
        "n=int(input(\"Enter a number:\"))\n",
        "if (n%7==0) and (n%5==0):\n",
        "  print(\"Number is divisible\")\n",
        "elif(n%7==0):\n",
        "  print(\"divisible by only 7\")\n",
        "elif(n%5==0):\n",
        "  print(\"divisible by only 5\")\n",
        "else:\n",
        "  print(\"None\")      "
      ],
      "metadata": {
        "id": "Vv-j3UR9hd1-",
        "colab": {
          "base_uri": "https://localhost:8080/"
        },
        "outputId": "79af82ee-ad73-4939-82c5-6432342692a3"
      },
      "execution_count": null,
      "outputs": [
        {
          "output_type": "stream",
          "name": "stdout",
          "text": [
            "Enter a number:42\n",
            "divisible by only 7\n"
          ]
        }
      ]
    },
    {
      "cell_type": "markdown",
      "source": [
        "**Problem-3**<br>\n",
        "Write a program to calculate the electricity bill (accept number of unit from user) according to the following criteria:<br>  \n",
        "Upto first 100 units Rs. 3 per unit.<br>\n",
        "Next 100 units Rs. 5 per unit.<br>\n",
        "Next 300 units Rs. 7 per unit.<br>\n",
        "Above that, for each unit exceeding 500, Rs. 10 per unit flat.<br>"
      ],
      "metadata": {
        "id": "Y9KxqFjxl2zt"
      }
    },
    {
      "cell_type": "code",
      "source": [
        "n=int(input(\"enter units of current:\"))\n",
        "amount=0\n",
        "if(n<=100):\n",
        "  amount=n*3\n",
        "elif(n<=200):\n",
        "  amount=n*5\n",
        "elif(n<=500):\n",
        "  amount=n*7\n",
        "else:\n",
        "  amount=n*10\n",
        "print(amount)        \n"
      ],
      "metadata": {
        "id": "f_xfH-gSnRvI",
        "colab": {
          "base_uri": "https://localhost:8080/"
        },
        "outputId": "3141decd-35ae-4745-a40f-1853353e5f36"
      },
      "execution_count": null,
      "outputs": [
        {
          "output_type": "stream",
          "name": "stdout",
          "text": [
            "enter units of current:300\n",
            "2100\n"
          ]
        }
      ]
    },
    {
      "cell_type": "markdown",
      "source": [
        "**Problem-4**<br>\n",
        "Find out sum of square of all the numbers upto 10, starting from 1"
      ],
      "metadata": {
        "id": "rLNw2lAwhZ8q"
      }
    },
    {
      "cell_type": "code",
      "source": [
        "n = 10\n",
        "sum = 0\n",
        "for s in range(1,n+1):\n",
        "  sum = sum + (s*s)\n",
        "print(\"Sum of squares is : \", sum)\n",
        "  \n",
        "\n"
      ],
      "metadata": {
        "id": "8kgqZ_x-heuw",
        "colab": {
          "base_uri": "https://localhost:8080/"
        },
        "outputId": "4cfd0ae8-2f3d-4ee9-f83d-d245f3a7b675"
      },
      "execution_count": null,
      "outputs": [
        {
          "output_type": "stream",
          "name": "stdout",
          "text": [
            "Sum of squares is :  385\n"
          ]
        }
      ]
    },
    {
      "cell_type": "markdown",
      "source": [
        "**Problem-5**<br>\n",
        "Find out sum of square of all the even numbers upto 10, starting from 1"
      ],
      "metadata": {
        "id": "Y-MCE0x9haiN"
      }
    },
    {
      "cell_type": "code",
      "source": [
        "n=int(input(\"Enter no.range\"))\n",
        "s=0\n",
        "i=0\n",
        "while(i<n):\n",
        "  if(i%2==0):\n",
        "    s=s+(i*i)\n",
        "  i+=1\n",
        "print(\"Sum of square of even natural no.is:\",s)    \n"
      ],
      "metadata": {
        "id": "Ki_-j4Dphfkd",
        "colab": {
          "base_uri": "https://localhost:8080/"
        },
        "outputId": "0e122c68-cc97-4a14-f7bd-56b99b036a4a"
      },
      "execution_count": null,
      "outputs": [
        {
          "output_type": "stream",
          "name": "stdout",
          "text": [
            "Enter no.range10\n",
            "Sum of square of even natural no.is: 120\n"
          ]
        }
      ]
    },
    {
      "cell_type": "markdown",
      "source": [
        "**Problem-6**<br>\n",
        "Check a number is prime or not"
      ],
      "metadata": {
        "id": "Sxp-egxiha1L"
      }
    },
    {
      "cell_type": "code",
      "source": [
        "n=int(input(\"Enter any number:\"))\n",
        "if n>1:\n",
        "  for i in range(2,n):\n",
        "    if(n%i == 0):\n",
        "      print(n,\"is not prime\")\n",
        "      break\n",
        "  else:\n",
        "    print(n,\"number is prime\")    "
      ],
      "metadata": {
        "id": "IoGNy2aMhgop",
        "colab": {
          "base_uri": "https://localhost:8080/"
        },
        "outputId": "01cd8636-81e0-4252-8bc2-6cb9e060a461"
      },
      "execution_count": null,
      "outputs": [
        {
          "output_type": "stream",
          "name": "stdout",
          "text": [
            "Enter any number:2\n",
            "2 number is prime\n"
          ]
        }
      ]
    },
    {
      "cell_type": "markdown",
      "source": [
        "**Problem-7**<br>\n",
        "Print multiplication table upto 10 starting from 1"
      ],
      "metadata": {
        "id": "ntLKcA1hha44"
      }
    },
    {
      "cell_type": "code",
      "source": [
        "num = 10\n",
        "#iterate 10 times i = 1 to 10\n",
        "for i in range(1,11):\n",
        "  print(num, 'x', i, '=',num*i)\n"
      ],
      "metadata": {
        "id": "U5LmrwFmhiE3",
        "colab": {
          "base_uri": "https://localhost:8080/"
        },
        "outputId": "e78bed1e-aef8-4685-c7f1-b0302459870d"
      },
      "execution_count": null,
      "outputs": [
        {
          "output_type": "stream",
          "name": "stdout",
          "text": [
            "10 x 1 = 10\n",
            "10 x 2 = 20\n",
            "10 x 3 = 30\n",
            "10 x 4 = 40\n",
            "10 x 5 = 50\n",
            "10 x 6 = 60\n",
            "10 x 7 = 70\n",
            "10 x 8 = 80\n",
            "10 x 9 = 90\n",
            "10 x 10 = 100\n"
          ]
        }
      ]
    },
    {
      "cell_type": "markdown",
      "source": [
        "**Problem-8**<br>\n",
        "Print the series of first n fibonacci numbers"
      ],
      "metadata": {
        "id": "09Fwyn_ZhbDY"
      }
    },
    {
      "cell_type": "code",
      "source": [
        "n = int(input(\"How many terms?\"))\n",
        "\n",
        "#first two terms\n",
        "n1, n2 = 0, 1\n",
        "count = 0\n",
        "\n",
        "# check if the number of terms is valid\n",
        "if n <= 0:\n",
        "  print(\"Please enter a positive integer\")\n",
        "#if there is only one term,return n1\n",
        "elif n == 1:\n",
        "  print(\"Fibonacci sequence upto\",n,\":\")\n",
        "  print(n1)\n",
        "#generate fibonacci sequence\n",
        "else:\n",
        "  print(\"Fibonacci sequence:\")\n",
        "  while count < n:\n",
        "    print(n1)\n",
        "    nth = n1 + n2\n",
        "    # update values\n",
        "    n1 = n2\n",
        "    n2 = nth\n",
        "    count += 1    \n"
      ],
      "metadata": {
        "id": "mo2otdwfhi3J",
        "colab": {
          "base_uri": "https://localhost:8080/"
        },
        "outputId": "bc242ca8-dff4-4bca-da80-0bc7328ac530"
      },
      "execution_count": null,
      "outputs": [
        {
          "output_type": "stream",
          "name": "stdout",
          "text": [
            "How many terms?10\n",
            "Fibonacci sequence:\n",
            "0\n",
            "1\n",
            "1\n",
            "2\n",
            "3\n",
            "5\n",
            "8\n",
            "13\n",
            "21\n",
            "34\n"
          ]
        }
      ]
    }
  ]
}